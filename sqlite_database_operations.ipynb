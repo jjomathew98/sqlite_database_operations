{
  "nbformat": 4,
  "nbformat_minor": 0,
  "metadata": {
    "colab": {
      "provenance": [],
      "authorship_tag": "ABX9TyNifNiYxOZRUoqScnN2VqgJ",
      "include_colab_link": true
    },
    "kernelspec": {
      "name": "python3",
      "display_name": "Python 3"
    },
    "language_info": {
      "name": "python"
    }
  },
  "cells": [
    {
      "cell_type": "markdown",
      "metadata": {
        "id": "view-in-github",
        "colab_type": "text"
      },
      "source": [
        "<a href=\"https://colab.research.google.com/github/jjomathew98/sqlite_database_operations/blob/main/sqlite_database_operations.ipynb\" target=\"_parent\"><img src=\"https://colab.research.google.com/assets/colab-badge.svg\" alt=\"Open In Colab\"/></a>"
      ]
    },
    {
      "cell_type": "markdown",
      "source": [
        "# 1. Data Exploration and Analysis\n",
        "### Loading Packages - Pandas"
      ],
      "metadata": {
        "id": "JnbRBe4LmuIG"
      }
    },
    {
      "cell_type": "code",
      "execution_count": 43,
      "metadata": {
        "id": "1lHQufRQanYq"
      },
      "outputs": [],
      "source": [
        "import pandas as pd"
      ]
    },
    {
      "cell_type": "markdown",
      "source": [
        "# 1.1 Import Pricing Transparency Datasets"
      ],
      "metadata": {
        "id": "3ismo13Natl6"
      }
    },
    {
      "cell_type": "code",
      "source": [
        "df1 = pd.read_json('https://raw.githubusercontent.com/hantswilliams/HHA_504_2023/main/WK3/data/nyp/133957095_NewYorkPresbyterianHospital_standardcharges.json')\n",
        "df2 = pd.read_csv('https://raw.githubusercontent.com/hantswilliams/HHA_504_2023/main/WK3/data/stonybrook/stonybrook.csv')"
      ],
      "metadata": {
        "id": "4M_UcvLOarlz"
      },
      "execution_count": 44,
      "outputs": []
    },
    {
      "cell_type": "markdown",
      "source": [
        "# 1.2 Conduct a Basic Exploratory Analysis\n",
        "## Dataset #1"
      ],
      "metadata": {
        "id": "ZHZX8Hnba_A4"
      }
    },
    {
      "cell_type": "code",
      "source": [
        "df1.head()\n",
        "df1.info()\n",
        "df1.describe()\n",
        "df1['1199'].value_counts()"
      ],
      "metadata": {
        "colab": {
          "base_uri": "https://localhost:8080/"
        },
        "id": "kFajZRuxeC7w",
        "outputId": "715f061f-df75-460a-e7ec-6fab70a991ca"
      },
      "execution_count": 45,
      "outputs": [
        {
          "output_type": "stream",
          "name": "stdout",
          "text": [
            "<class 'pandas.core.frame.DataFrame'>\n",
            "RangeIndex: 6193 entries, 0 to 6192\n",
            "Data columns (total 47 columns):\n",
            " #   Column                              Non-Null Count  Dtype  \n",
            "---  ------                              --------------  -----  \n",
            " 0   Code (CPT/DRG)                      6193 non-null   object \n",
            " 1   Description                         6193 non-null   object \n",
            " 2   Rev Code                            6193 non-null   object \n",
            " 3   Inpatient/Outpatient                6193 non-null   object \n",
            " 4   Gross Charges                       6193 non-null   float64\n",
            " 5   Discounted Cash Price               6193 non-null   float64\n",
            " 6   Aetna                               6193 non-null   object \n",
            " 7   Cigna                               6193 non-null   object \n",
            " 8   Empire Blue Cross Blue Shield       6193 non-null   object \n",
            " 9   Emblem Health                       6193 non-null   object \n",
            " 10  United Health Group                 6193 non-null   object \n",
            " 11  Aetna Medicare                      6193 non-null   object \n",
            " 12  AgeWell Medicare                    6193 non-null   object \n",
            " 13  Emblem Medicare                     6193 non-null   object \n",
            " 14  Empire Medicare                     6193 non-null   object \n",
            " 15  Fidelis Medicare                    6193 non-null   object \n",
            " 16  Healthfirst Medicare                6193 non-null   object \n",
            " 17  UHC Community Plan/United Medicare  6193 non-null   object \n",
            " 18  VNS Medicare                        6193 non-null   object \n",
            " 19  WellCare Medicare                   6193 non-null   object \n",
            " 20  1199                                6193 non-null   object \n",
            " 21  Affinity Molina Essential           6193 non-null   object \n",
            " 22  Affinity Molina Medicaid/CHP        6193 non-null   object \n",
            " 23  Amida Care Medicaid                 6193 non-null   object \n",
            " 24  Emblem Medicaid/CHP                 6193 non-null   object \n",
            " 25  Empire Healthplus Essential         6193 non-null   object \n",
            " 26  Empire Healthplus Exchange          6193 non-null   object \n",
            " 27  Empire Healthplus Medicaid/CHP      6193 non-null   object \n",
            " 28  Fidelis Essential/Exchange          6193 non-null   object \n",
            " 29  Fidelis Medicaid/CHP                6193 non-null   object \n",
            " 30  Healthfirst Essential/Exchange      6193 non-null   object \n",
            " 31  Healthfirst Medicaid/CHP            6193 non-null   object \n",
            " 32  MVP Medicaid/CHP                    6193 non-null   object \n",
            " 33  MVP Essential                       6193 non-null   object \n",
            " 34  United Community Plan Essential     6193 non-null   object \n",
            " 35  United Community Plan Medicaid      6193 non-null   object \n",
            " 36  VNS Medicaid                        6193 non-null   object \n",
            " 37  Consumer Health Network             6193 non-null   object \n",
            " 38  Devon                               6193 non-null   object \n",
            " 39  Equian                              6193 non-null   object \n",
            " 40  First Health                        6193 non-null   object \n",
            " 41  Magnacare                           6193 non-null   object \n",
            " 42  Multiplan/Beechstreet/PHCS          6193 non-null   object \n",
            " 43  QHM                                 6193 non-null   object \n",
            " 44  Worldwide                           6193 non-null   object \n",
            " 45  Minimum Negotiated Charge           5912 non-null   float64\n",
            " 46  Maximum Negotiated Charge           5912 non-null   float64\n",
            "dtypes: float64(4), object(43)\n",
            "memory usage: 2.2+ MB\n"
          ]
        },
        {
          "output_type": "execute_result",
          "data": {
            "text/plain": [
              "2107                           375\n",
              "2412                           343\n",
              "1564                           236\n",
              "Included in Service Package    235\n",
              "2965                           189\n",
              "                              ... \n",
              "601                              1\n",
              "202.5                            1\n",
              "197                              1\n",
              "389                              1\n",
              "17670.3696                       1\n",
              "Name: 1199, Length: 2230, dtype: int64"
            ]
          },
          "metadata": {},
          "execution_count": 45
        }
      ]
    },
    {
      "cell_type": "markdown",
      "source": [
        "# 1.2 Conduct a Basic Exploratory Analysis\n",
        "## Dataset #2"
      ],
      "metadata": {
        "id": "pwqr9vI_mo1x"
      }
    },
    {
      "cell_type": "code",
      "source": [
        "df2.head()\n",
        "df2.info()\n",
        "df2.describe()\n",
        "df2['1199-Commercial other'].value_counts()"
      ],
      "metadata": {
        "colab": {
          "base_uri": "https://localhost:8080/"
        },
        "id": "bE_Rt10Bgl2g",
        "outputId": "bd0bc405-2ba7-41b7-c1bd-8edd4bc7bd1c"
      },
      "execution_count": 46,
      "outputs": [
        {
          "output_type": "stream",
          "name": "stdout",
          "text": [
            "<class 'pandas.core.frame.DataFrame'>\n",
            "RangeIndex: 7710 entries, 0 to 7709\n",
            "Data columns (total 57 columns):\n",
            " #   Column                                        Non-Null Count  Dtype  \n",
            "---  ------                                        --------------  -----  \n",
            " 0   Code                                          7710 non-null   object \n",
            " 1   Description                                   7710 non-null   object \n",
            " 2   Type                                          6927 non-null   object \n",
            " 3   Package/Line_Level                            6927 non-null   object \n",
            " 4   Gross charge                                  7710 non-null   float64\n",
            " 5   Discounted cash price                         7710 non-null   float64\n",
            " 6   De-identified min contracted rate             6254 non-null   float64\n",
            " 7   De-identified max contracted rate             6254 non-null   float64\n",
            " 8   Derived contracted rate                       6254 non-null   float64\n",
            " 9   1199-Commercial other                         1014 non-null   float64\n",
            " 10  Aetna-Medicare Advantage HMO                  1106 non-null   float64\n",
            " 11  Aetna-Commercial HMO/POS                      1827 non-null   float64\n",
            " 12  Aetna-Commercial PPO/Open Access              1612 non-null   float64\n",
            " 13  Aetna-Commercial other                        128 non-null    float64\n",
            " 14  Empire Health-Commercial other                3060 non-null   float64\n",
            " 15  Empire Health-Commercial PPO/Open Access      2402 non-null   float64\n",
            " 16  BlueCross BlueShield-Commercial other         1254 non-null   float64\n",
            " 17  Beacon Health-Commercial other                3 non-null      float64\n",
            " 18  Carelon Health-Commercial other               3 non-null      float64\n",
            " 19  Cigna-Commercial PPO/Open Access              1966 non-null   float64\n",
            " 20  Cigna-Commercial other                        43 non-null     float64\n",
            " 21  Cigna-Commercial HMO/POS                      6 non-null      float64\n",
            " 22  EH Facet-Commercial other                     0 non-null      float64\n",
            " 23  EmblemHealth-Commercial PPO/Open Access       746 non-null    float64\n",
            " 24  EmblemHealth-Commercial other                 2070 non-null   float64\n",
            " 25  EmblemHealth-Commercial HMO/POS               1386 non-null   float64\n",
            " 26  EmblemHealth-Medicaid HMO                     0 non-null      float64\n",
            " 27  EmblemHealth-Medicare Advantage HMO           0 non-null      float64\n",
            " 28  Empire Health-Commercial HMO/POS              1679 non-null   float64\n",
            " 29  Empire Health-Medicare Advantage HMO          1074 non-null   float64\n",
            " 30  Empire Health-Medicaid HMO                    2 non-null      float64\n",
            " 31  Evernorth-Commercial other                    8 non-null      float64\n",
            " 32  Fidelis-Commercial other                      920 non-null    float64\n",
            " 33  Fidelis-Medicare Advantage HMO                268 non-null    float64\n",
            " 34  Fidelis-Medicaid HMO                          2357 non-null   float64\n",
            " 35  GHI-Commercial other                          0 non-null      float64\n",
            " 36  HealthFirst-Commercial other                  2076 non-null   float64\n",
            " 37  HealthFirst-Medicare Advantage HMO            102 non-null    float64\n",
            " 38  HealthFirst-Medicaid HMO                      0 non-null      float64\n",
            " 39  HealthPlus HP-Medicaid HMO                    790 non-null    float64\n",
            " 40  HealthPlus HP-Commercial other                297 non-null    float64\n",
            " 41  HealthPlus HP-Medicare Advantage HMO          705 non-null    float64\n",
            " 42  Humana-Commercial other                       33 non-null     float64\n",
            " 43  Humana-Commercial HMO/POS                     247 non-null    float64\n",
            " 44  Humana-Commercial PPO/Open Access             474 non-null    float64\n",
            " 45  Meritain Health-Commercial other              450 non-null    float64\n",
            " 46  Molina-Commercial other                       747 non-null    float64\n",
            " 47  Optum-Commercial other                        943 non-null    float64\n",
            " 48  Oxford-Commercial other                       1777 non-null   float64\n",
            " 49  Oxford-Commercial HMO/POS                     0 non-null      float64\n",
            " 50  Tricare-Commercial other                      434 non-null    float64\n",
            " 51  United Healthcare-Commercial other            2357 non-null   float64\n",
            " 52  United Healthcare-Medicare Advantage HMO      624 non-null    float64\n",
            " 53  United Healthcare-Commercial HMO/POS          133 non-null    float64\n",
            " 54  United Healthcare-Medicaid HMO                2065 non-null   float64\n",
            " 55  United Healthcare-Commercial PPO/Open Access  357 non-null    float64\n",
            " 56  Veteran Family-Commercial other               46 non-null     float64\n",
            "dtypes: float64(53), object(4)\n",
            "memory usage: 3.4+ MB\n"
          ]
        },
        {
          "output_type": "execute_result",
          "data": {
            "text/plain": [
              "4822.00     104\n",
              "2411.00      36\n",
              "2153.00      36\n",
              "4592.00      27\n",
              "3923.00      19\n",
              "           ... \n",
              "221.63        1\n",
              "14.40         1\n",
              "185.40        1\n",
              "157.20        1\n",
              "42565.43      1\n",
              "Name: 1199-Commercial other, Length: 568, dtype: int64"
            ]
          },
          "metadata": {},
          "execution_count": 46
        }
      ]
    },
    {
      "cell_type": "markdown",
      "source": [
        "# 2. SQLite Database Operations"
      ],
      "metadata": {
        "id": "thOeuXbnhdsM"
      }
    },
    {
      "cell_type": "code",
      "source": [
        "import sqlite3"
      ],
      "metadata": {
        "id": "oYP1knvMhnt7"
      },
      "execution_count": 47,
      "outputs": []
    },
    {
      "cell_type": "markdown",
      "source": [
        "## 2.1 Create SQLite Database"
      ],
      "metadata": {
        "id": "13XgdHGVhnBS"
      }
    },
    {
      "cell_type": "code",
      "source": [
        "conn = sqlite3.connect('health.db')"
      ],
      "metadata": {
        "id": "PKSf-VXnhye4"
      },
      "execution_count": 48,
      "outputs": []
    },
    {
      "cell_type": "markdown",
      "source": [
        "## 2.2 Manual Table Creation and Data Insertion"
      ],
      "metadata": {
        "id": "29RRnajwh8Tj"
      }
    },
    {
      "cell_type": "code",
      "source": [
        "cursor = conn.cursor()"
      ],
      "metadata": {
        "id": "bIlFo3D4h5Kh"
      },
      "execution_count": 49,
      "outputs": []
    },
    {
      "cell_type": "code",
      "source": [
        "# Create a table\n",
        "create_table_query = '''\n",
        "CREATE TABLE IF NOT EXISTS hospital_data (\n",
        "    id INTEGER PRIMARY KEY,\n",
        "    numerical_col1 REAL,\n",
        "    numerical_col2 REAL,\n",
        "    categorical_col1 TEXT,\n",
        "    categorical_col2 TEXT\n",
        ");\n",
        "'''\n",
        "cursor.execute(create_table_query)\n",
        "\n",
        "# Insert data into the table\n",
        "insert_data_query = '''\n",
        "INSERT INTO hospital_data (numerical_col1, numerical_col2, categorical_col1, categorical_col2)\n",
        "VALUES (?, ?, ?, ?);\n",
        "'''\n",
        "cursor.execute(insert_data_query, (1.0, 2.0, 'Category1', 'Category2'))\n",
        "cursor.execute(insert_data_query, (3.0, 4.0, 'Category3', 'Category4'))\n",
        "\n",
        "# Commit changes and close the connection\n",
        "conn.commit()\n",
        "conn.close()\n"
      ],
      "metadata": {
        "id": "BOYMWZDYiR-Q"
      },
      "execution_count": 50,
      "outputs": []
    },
    {
      "cell_type": "markdown",
      "source": [
        "# 2.3 Automatic Table Creation (df1)\n"
      ],
      "metadata": {
        "id": "S_UDDIpak6f1"
      }
    },
    {
      "cell_type": "code",
      "source": [
        "conn = sqlite3.connect('health.db')\n",
        "df1.to_sql('hospital_data_auto', conn, if_exists='replace', index=False)\n",
        "conn.close()"
      ],
      "metadata": {
        "id": "JB0V0ST0ldbV"
      },
      "execution_count": 52,
      "outputs": []
    },
    {
      "cell_type": "markdown",
      "source": [
        "# Dive Deeper with SQL (Custom Select Query)"
      ],
      "metadata": {
        "id": "-l4hHMRklr6g"
      }
    },
    {
      "cell_type": "code",
      "source": [
        "conn = sqlite3.connect('health.db')\n",
        "query = '''\n",
        "SELECT categorical_col1, AVG(numerical_col1) AS avg_num_col1\n",
        "FROM hospital_data\n",
        "GROUP BY categorical_col1;\n",
        "'''\n",
        "result = pd.read_sql_query(query, conn)\n",
        "conn.close()\n",
        "\n",
        "# Print the result or perform further analysis\n",
        "print(result)"
      ],
      "metadata": {
        "colab": {
          "base_uri": "https://localhost:8080/"
        },
        "id": "0PBIB2OClrg9",
        "outputId": "a688935e-b906-4a11-8765-674315722af5"
      },
      "execution_count": 53,
      "outputs": [
        {
          "output_type": "stream",
          "name": "stdout",
          "text": [
            "  categorical_col1  avg_num_col1\n",
            "0        Category1           1.0\n",
            "1        Category3           3.0\n"
          ]
        }
      ]
    }
  ]
}